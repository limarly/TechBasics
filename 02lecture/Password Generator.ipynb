{
 "cells": [
  {
   "cell_type": "code",
   "execution_count": 2,
   "id": "1c5502a9",
   "metadata": {},
   "outputs": [],
   "source": [
    "import string"
   ]
  },
  {
   "cell_type": "code",
   "execution_count": 3,
   "id": "f65daafd",
   "metadata": {},
   "outputs": [
    {
     "data": {
      "text/plain": [
       "'abcdefghijklmnopqrstuvwxyzABCDEFGHIJKLMNOPQRSTUVWXYZ'"
      ]
     },
     "execution_count": 3,
     "metadata": {},
     "output_type": "execute_result"
    }
   ],
   "source": [
    "string.ascii_letters"
   ]
  },
  {
   "cell_type": "code",
   "execution_count": 4,
   "id": "0742a663",
   "metadata": {},
   "outputs": [
    {
     "data": {
      "text/plain": [
       "'abcdefghijklmnopqrstuvwxyz'"
      ]
     },
     "execution_count": 4,
     "metadata": {},
     "output_type": "execute_result"
    }
   ],
   "source": [
    "string.ascii_lowercase"
   ]
  },
  {
   "cell_type": "code",
   "execution_count": 5,
   "id": "e817ea9e",
   "metadata": {},
   "outputs": [
    {
     "data": {
      "text/plain": [
       "'ABCDEFGHIJKLMNOPQRSTUVWXYZ'"
      ]
     },
     "execution_count": 5,
     "metadata": {},
     "output_type": "execute_result"
    }
   ],
   "source": [
    "string.ascii_uppercase"
   ]
  },
  {
   "cell_type": "code",
   "execution_count": 8,
   "id": "0a65f26f",
   "metadata": {},
   "outputs": [
    {
     "data": {
      "text/plain": [
       "'0123456789'"
      ]
     },
     "execution_count": 8,
     "metadata": {},
     "output_type": "execute_result"
    }
   ],
   "source": [
    "string.digits"
   ]
  },
  {
   "cell_type": "code",
   "execution_count": 9,
   "id": "1930a1c1",
   "metadata": {},
   "outputs": [
    {
     "data": {
      "text/plain": [
       "'0123456789abcdefABCDEF'"
      ]
     },
     "execution_count": 9,
     "metadata": {},
     "output_type": "execute_result"
    }
   ],
   "source": [
    "string.hexdigits"
   ]
  },
  {
   "cell_type": "code",
   "execution_count": 10,
   "id": "b84649e3",
   "metadata": {},
   "outputs": [
    {
     "data": {
      "text/plain": [
       "'!\"#$%&\\'()*+,-./:;<=>?@[\\\\]^_`{|}~'"
      ]
     },
     "execution_count": 10,
     "metadata": {},
     "output_type": "execute_result"
    }
   ],
   "source": [
    "string.punctuation"
   ]
  },
  {
   "cell_type": "markdown",
   "id": "ae0f8e25",
   "metadata": {},
   "source": [
    "How would you select N characters? Let’s say 10 characters from your pool.\n",
    "How would you select a random selection of N characters?\n",
    "1. Import the random library and use the random.shuffle() method passing the variable characters to\n",
    "shuffle the pool of characters.\n",
    "2. Select the first N letters, using the same code as above (the shuffle method does not require you to store\n",
    "the output as another variable - but feel free to double check. ) Store your output of N characters as a\n",
    "variable called password.\n",
    "3. If you print password, you will see the characters appear as a list. Use the join method to view the letters\n",
    "as one word:\n",
    "password_generated = \"\".join(password)\n",
    "print(password_generated)"
   ]
  },
  {
   "cell_type": "code",
   "execution_count": 58,
   "id": "d24f72b5",
   "metadata": {},
   "outputs": [
    {
     "name": "stdout",
     "output_type": "stream",
     "text": [
      "$gZXftWJxv\n"
     ]
    }
   ],
   "source": [
    "import random\n",
    "\n",
    "# create a list of characters to use in the password\n",
    "characters = list(string.ascii_letters + string.punctuation)\n",
    "\n",
    "#shuffle the characters in the list\n",
    "random.shuffle(characters)\n",
    "\n",
    "#select how many characters the password should have\n",
    "N = 10\n",
    "\n",
    "#variable to call the n characters\n",
    "password = characters[0:N]\n",
    "\n",
    "#join the characters together\n",
    "password_generated = \"\".join(password)\n",
    "\n",
    "#print the final password\n",
    "print(password_generated)"
   ]
  },
  {
   "cell_type": "markdown",
   "id": "7727f13c",
   "metadata": {},
   "source": [
    "Write a definition that will return a\n",
    "password based for different lengths and\n",
    "pool of characters?"
   ]
  },
  {
   "cell_type": "code",
   "execution_count": 51,
   "id": "2e103338",
   "metadata": {},
   "outputs": [],
   "source": [
    "def password_generator(characters, length):\n",
    "    \n",
    "    random.shuffle(characters)\n",
    "    \n",
    "    password= characters[0:length]\n",
    "    \n",
    "    password_generated = \"\".join(password)\n",
    "\n",
    "    return(password_generated)"
   ]
  },
  {
   "cell_type": "code",
   "execution_count": 52,
   "id": "fea81d8c",
   "metadata": {},
   "outputs": [
    {
     "data": {
      "text/plain": [
       "'wWG-@\"zinmlcT!PIq<}o'"
      ]
     },
     "execution_count": 52,
     "metadata": {},
     "output_type": "execute_result"
    }
   ],
   "source": [
    "password_generator(characters, length=20)"
   ]
  },
  {
   "cell_type": "code",
   "execution_count": 55,
   "id": "b8fd6128",
   "metadata": {},
   "outputs": [
    {
     "name": "stdout",
     "output_type": "stream",
     "text": [
      "0\n",
      "The password generated is: <iU|a\n",
      "The password generated is: jdr-J`\n",
      "The password generated is: jz'{L?X\n",
      "The password generated is: X'uOo[nU\n",
      "The password generated is: q[<u\"\\i/}\n",
      "The password generated is: >`$]AhfSL|\n",
      "The password generated is: zD~v'{kc-L_\n",
      "The password generated is: \\I^Nl~,MVXdJ\n",
      "The password generated is: ]C.:d|Li`M#H(\n",
      "The password generated is: ivpO/:k|q-DIL(\n",
      "The password generated is: =rMv@wIJS*[hl|U\n",
      "The password generated is: Cs[Z*:iD|!XMK;ST\n",
      "The password generated is: ~Nfv_Xy/arC,}c%qV\n",
      "The password generated is: vU<RPTK~;sn%CdpNj#\n",
      "The password generated is: \"',Watf%#FGH;-J/nqX\n",
      "1\n",
      "The password generated is: uQ$)x\n",
      "The password generated is: {[pqD'\n",
      "The password generated is: mzeNd]'\n",
      "The password generated is: ]\\.-GOBg\n",
      "The password generated is: XMZLbeE`C\n",
      "The password generated is: ZpbqjX!EFC\n",
      "The password generated is: ,Q$`xelZy[>\n",
      "The password generated is: xho~!.DqmFW#\n",
      "The password generated is: KjEMOy?X}r~A\\\n",
      "The password generated is: +cyNo\"?Cm!BFW,\n",
      "The password generated is: |'/dKaj!NqS$r&[\n",
      "The password generated is: *#TJC?MVLr`)ktg!\n",
      "The password generated is: wsW>\\=T\"q!F&$Ka~h\n",
      "The password generated is: X~{]cU!D\"}S(MOEv?'\n",
      "The password generated is: L_zeDGWYQ\\)%yKlUV({\n",
      "2\n",
      "The password generated is: FG^'w\n",
      "The password generated is: ?DF`dp\n",
      "The password generated is: !GW\"cno\n",
      "The password generated is: ykYE{}b'\n",
      "The password generated is: OKc>\"wyXN\n",
      "The password generated is: j|dY!KgwmS\n",
      "The password generated is: ()e<]c>&uNC\n",
      "The password generated is: %h\\#KXYSg;ue\n",
      "The password generated is: JMuemd`q;-p$N\n",
      "The password generated is: V)ps'HTu%v_#C:\n",
      "The password generated is: OnyDd_pLa,&Ti-~\n",
      "The password generated is: dK(]$WUVe{q%`wFX\n",
      "The password generated is: tBkvyJdLm*(CD&xU+\n",
      "The password generated is: hiz/col$)jqw=^tM:>\n",
      "The password generated is: >DUNct?kWV\":ZYr~s[M\n",
      "3\n",
      "The password generated is: r[RQy\n",
      "The password generated is: $R@]XA\n",
      "The password generated is: %*?:!pK\n",
      "The password generated is: ICQh{y|!\n",
      "The password generated is: B&-Eyl$sb\n",
      "The password generated is: *(,}_q</dQ\n",
      "The password generated is: W.N_;i?\\sV`\n",
      "The password generated is: (,m/xDYfz~)a\n",
      "The password generated is: +JZp;eiHrfI}K\n",
      "The password generated is: EK+`re.s>nF~S^\n",
      "The password generated is: :jWVy!B,DO>s].g\n",
      "The password generated is: /b(>D}\\#OrZCMcd<\n",
      "The password generated is: p#GZ%`AYhPFd>m<iR\n",
      "The password generated is: ,juDTpnJoxVR=qeU^y\n",
      "The password generated is: ^$)T]YkEDV~\"<!xn`zb\n",
      "4\n",
      "The password generated is: /<:`f\n",
      "The password generated is: YCtZRN\n",
      "The password generated is: <vXx>gW\n",
      "The password generated is: p-xcHN,L\n",
      "The password generated is: ~)^VQIn.:\n",
      "The password generated is: .v=^WJ!@O\"\n",
      "The password generated is: W@YoH)_Lbmj\n",
      "The password generated is: VE*UR`hQ!OW<\n",
      "The password generated is: (ZOuxDa-zCoTF\n",
      "The password generated is: nAr~fjtCZ\"-LVx\n",
      "The password generated is: A-W\"#iFaM/d|~hX\n",
      "The password generated is: /Y:I;o!PNL@D^~jZ\n",
      "The password generated is: o-paI@K=Q]!ULr.*v\n",
      "The password generated is: ;XqBDw$@%EC?^OyS/L\n",
      "The password generated is: *dZsKG!zrt(/iYkg]H'\n",
      "5\n",
      "The password generated is: Y=k,Z\n",
      "The password generated is: %tV~JL\n",
      "The password generated is: iL^ZU@{\n",
      "The password generated is: J$eMx-EW\n",
      "The password generated is: Z\"/)jm?iO\n",
      "The password generated is: !qsoz;_wTB\n",
      "The password generated is: -T+I[@xRK}/\n",
      "The password generated is: LUm>(`OHW_[B\n",
      "The password generated is: '$LnZtXa_iGeW\n",
      "The password generated is: ~b#d?}BE+:A%'w\n",
      "The password generated is: cnGSgd\\MZRPlAsy\n",
      "The password generated is: mg,tN@!EK|H_TcwX\n",
      "The password generated is: ]Xph':Y}T!SRJ;KUu\n",
      "The password generated is: B)kly/`\\\"aE.QW'Z|T\n",
      "The password generated is: j(sBJUFbmo!Ife$\\Kv?\n",
      "6\n",
      "The password generated is: oOK`X\n",
      "The password generated is: Iy,u_+\n",
      "The password generated is: iuh<_R=\n",
      "The password generated is: +!,v->x{\n",
      "The password generated is: V}D]:YU)s\n",
      "The password generated is: rn<Bw~*@jU\n",
      "The password generated is: zpkFY^Te?=O\n",
      "The password generated is: X^!.*E;tCsBO\n",
      "The password generated is: @w~N;i=s&->Ov\n",
      "The password generated is: %oePhZv}|]:_C;\n",
      "The password generated is: QtFfeC,+B.byR<V\n",
      "The password generated is: >f/DZ;Y\\!XP\"$pub\n",
      "The password generated is: $V-<wWK|Fs{\\P}Z;r\n",
      "The password generated is: G]uSrIl@)AdPN(Yp,W\n",
      "The password generated is: `)[(J^gucz]D:'{IHk#\n",
      "7\n",
      "The password generated is: ZS_&k\n",
      "The password generated is: h|Z?@;\n",
      "The password generated is: n.A\"]ad\n",
      "The password generated is: yjb\"mCRu\n",
      "The password generated is: w'rtpad%#\n",
      "The password generated is: L^QiR/lfzI\n",
      "The password generated is: *'?UXTDud/M\n",
      "The password generated is: !~rhPz'}pumU\n",
      "The password generated is: eAUPlsM/~^]y&\n",
      "The password generated is: /;`f$n_Uq\\ljOH\n",
      "The password generated is: Am]rqhN\"'_<x?lY\n",
      "The password generated is: \\W}P>HJaRu$)/o^!\n",
      "The password generated is: $a+ql(`:~eBtsViE\"\n",
      "The password generated is: %K^S?ljowfEv@znsBe\n",
      "The password generated is: }>=O/rnPcGIm\\+^-zNS\n",
      "8\n",
      "The password generated is: c`_pz\n",
      "The password generated is: %Y);fT\n",
      "The password generated is: wX>jeiG\n",
      "The password generated is: *>\\.Xy:|\n",
      "The password generated is: OCA;vnX=.\n",
      "The password generated is: aq<YHD*QXU\n",
      "The password generated is: !mT;zFZBu|%\n",
      "The password generated is: By]}wZCI(|VE\n",
      "The password generated is: iw=@hr[mSGLR;\n",
      "The password generated is: Az[R#/FJ+=;bDE\n",
      "The password generated is: -yg_,JU;RxA*p{!\n",
      "The password generated is: :$k+>.o'H=cQ@)BE\n",
      "The password generated is: NQKki@'%_qh?S+snM\n",
      "The password generated is: )ZOGdNkb';FM/BYwyR\n",
      "The password generated is: n~;NQ![L}:KOWm()o`F\n",
      "9\n",
      "The password generated is: ^<\\fy\n",
      "The password generated is: %.iu<>\n",
      "The password generated is: Z|Uzo@h\n",
      "The password generated is: nz)t><q=\n",
      "The password generated is: LUGi>C!-J\n",
      "The password generated is: opuJlVn`wH\n",
      "The password generated is: ,L?co[EB#kZ\n",
      "The password generated is: |(\\mRW=%Kdi]\n",
      "The password generated is: ;RPb@uiKz(_d|\n",
      "The password generated is: ^tPUo|M!Qj=q)e\n",
      "The password generated is: T-i;}m.SED'vdG|\n",
      "The password generated is: _uXvs$@&h>%yb<ac\n",
      "The password generated is: .:*wS={|>xBGjFyH+\n",
      "The password generated is: =XHUvGkILKPM%|Rao;\n",
      "The password generated is: Mqo+[i.T{AW`zcxLt;Y\n"
     ]
    }
   ],
   "source": [
    "for i in range(10):\n",
    "    print(i)\n",
    "    for l in range(5, 20):\n",
    "        final_password = password_generator(characters,l)\n",
    "        print(f\"The password generated is: {final_password}\")\n",
    "    "
   ]
  },
  {
   "cell_type": "code",
   "execution_count": null,
   "id": "5ac4ca4d",
   "metadata": {},
   "outputs": [],
   "source": []
  }
 ],
 "metadata": {
  "kernelspec": {
   "display_name": "Python 3 (ipykernel)",
   "language": "python",
   "name": "python3"
  },
  "language_info": {
   "codemirror_mode": {
    "name": "ipython",
    "version": 3
   },
   "file_extension": ".py",
   "mimetype": "text/x-python",
   "name": "python",
   "nbconvert_exporter": "python",
   "pygments_lexer": "ipython3",
   "version": "3.11.3"
  }
 },
 "nbformat": 4,
 "nbformat_minor": 5
}
